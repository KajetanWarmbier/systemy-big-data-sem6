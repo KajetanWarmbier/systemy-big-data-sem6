{
 "cells": [
  {
   "cell_type": "code",
   "execution_count": 103,
   "metadata": {},
   "outputs": [],
   "source": [
    "#imports\n",
    "import requests\n",
    "import string\n",
    "from bs4 import BeautifulSoup\n",
    "import csv\n",
    "\n",
    "#lists instantiation\n",
    "jobs_gdansk = []\n",
    "jobs_gdansk_no_stop = []\n",
    "jobs_gdynia = []\n",
    "jobs_gdynia_no_stop = []\n",
    "jobs_sopot = []\n",
    "jobs_sopot_no_stop = []\n",
    "jobs_other = []\n",
    "jobs_other_no_stop = []\n",
    "jobs_remote = []\n",
    "jobs_remote_no_stop = []\n",
    "\n",
    "#custom stop words\n",
    "STOP_WORDS = ['superoferta', 'kontrakt', 'b2b', 'umowa', 'pracę,', 'praca', 'stacjonarna', 'hybrydowa', 'zdalna', \n",
    "              'pełny', 'etat', 'zł', 'o', 'pracę', 'запрошуємо', 'працівників', 'з', 'україни', 'zlecenie', \"część\", \n",
    "              'etatu', 'od', 'zaraz']\n",
    "\n",
    "#script for looping through pracuj.pl pages and appending each job offer into suitable list\n",
    "page = requests.get(\"https://www.pracuj.pl/praca/trojmiasto;wp/it%20-%20rozw%C3%B3j%20oprogramowania;cc,5016?rd=30&pn=1\")\n",
    "for i in range(1,14):\n",
    "    URL = \"https://www.pracuj.pl/praca/trojmiasto;wp/it%20-%20rozw%C3%B3j%20oprogramowania;cc,5016?rd=30&pn=\" + str(i)\n",
    "    page = requests.get(URL)\n",
    "    tags=BeautifulSoup(page.text, \"html.parser\")\n",
    "    jobs=tags.find_all('div', {'class':'listing_c1dc6in8'})\n",
    "    \n",
    "    for job in jobs:\n",
    "        job_text = str(job.get_text(separator=\" \")).strip().lower().replace('[','').replace(']','').replace('(','').replace(')','')\n",
    "        if \"gdańsk\" in job_text:\n",
    "            if \"praca zdalna\" in job_text:\n",
    "                jobs_remote.append(job_text)\n",
    "            else:\n",
    "                jobs_gdansk.append(job_text)\n",
    "        elif \"gdynia\" in job_text:\n",
    "            if \"praca zdalna\" in job_text:\n",
    "                jobs_remote.append(job_text)\n",
    "            else:\n",
    "                jobs_gdynia.append(job_text)\n",
    "        elif \"sopot\" in (job_text):\n",
    "            if \"praca zdalna\" in job_text:\n",
    "                jobs_remote.append(job_text)\n",
    "            else:\n",
    "                jobs_sopot.append(job_text)\n",
    "        else:\n",
    "            if \"praca zdalna\" in job_text:\n",
    "                jobs_remote.append(job_text)\n",
    "            else:\n",
    "                jobs_other.append(job_text) \n",
    "\n",
    "#cleaning retrived data\n",
    "for job in jobs_gdansk:\n",
    "    job = job.split()\n",
    "    job_no_stop = [w for w in job if w not in STOP_WORDS and w not in string.punctuation]\n",
    "    jobs_gdansk_no_stop.append(job_no_stop)\n",
    "\n",
    "for job in jobs_gdynia:\n",
    "    job = job.split()\n",
    "    job_no_stop = [w for w in job if w not in STOP_WORDS and w not in string.punctuation]\n",
    "    jobs_gdynia_no_stop.append(job_no_stop)\n",
    "\n",
    "for job in jobs_sopot:\n",
    "    job = job.split()\n",
    "    job_no_stop = [w for w in job if w not in STOP_WORDS and w not in string.punctuation]\n",
    "    jobs_sopot_no_stop.append(job_no_stop)\n",
    "\n",
    "for job in jobs_other:\n",
    "    job = job.split()\n",
    "    job_no_stop = [w for w in job if w not in STOP_WORDS and w not in string.punctuation]\n",
    "    jobs_other_no_stop.append(job_no_stop)\n",
    "    \n",
    "for job in jobs_remote:\n",
    "    job = job.split()\n",
    "    job_no_stop = [w for w in job if w not in STOP_WORDS and w not in string.punctuation]\n",
    "    jobs_remote_no_stop.append(job_no_stop)\n",
    "\n",
    "#writing mined data into csv files\n",
    "with open('jobs_gdansk.csv', 'w', encoding=\"utf-8\") as csv_file:\n",
    "    writer = csv.writer(csv_file, delimiter=\",\")\n",
    "    for job in jobs_gdansk_no_stop:\n",
    "        writer.writerow(job)\n",
    "with open('jobs_gdynia.csv', 'w', encoding=\"utf-8\") as csv_file:\n",
    "    writer = csv.writer(csv_file, delimiter=\",\")\n",
    "    for job in jobs_gdynia_no_stop:\n",
    "        writer.writerow(job)\n",
    "with open('jobs_sopot.csv', 'w', encoding=\"utf-8\") as csv_file:\n",
    "    writer = csv.writer(csv_file, delimiter=\",\")\n",
    "    for job in jobs_sopot_no_stop:\n",
    "        writer.writerow(job)\n",
    "with open('jobs_remote.csv', 'w', encoding=\"utf-8\") as csv_file:\n",
    "    writer = csv.writer(csv_file, delimiter=\",\")\n",
    "    for job in jobs_remote_no_stop:\n",
    "        writer.writerow(job)\n",
    "with open('jobs_other.csv', 'w', encoding=\"utf-8\") as csv_file:\n",
    "    writer = csv.writer(csv_file, delimiter=\",\")\n",
    "    for job in jobs_other_no_stop:\n",
    "        writer.writerow(job)"
   ]
  },
  {
   "cell_type": "code",
   "execution_count": 104,
   "metadata": {},
   "outputs": [],
   "source": [
    "#counts number of job offers for given seniority in given location from .csv file\n",
    "def count_seniority_number(location: str, seniority_names: list[str]):\n",
    "  with open(f\"jobs_{location}.csv\") as csv_file:\n",
    "    csv_data = csv.reader(csv_file, delimiter=',')\n",
    "    number_of_seniorities = 0\n",
    "    for data_row in csv_data:\n",
    "      if any(keyword in seniority_names for keyword in data_row):\n",
    "        number_of_seniorities += 1\n",
    "    return number_of_seniorities"
   ]
  },
  {
   "cell_type": "code",
   "execution_count": 105,
   "metadata": {},
   "outputs": [],
   "source": [
    "#maps of seniorities\n",
    "seniorities = {\n",
    "  'senior': ['senior', 'starszy'],\n",
    "  'mid': ['mid', 'regular'],\n",
    "  'junior': ['junior', 'młodszy'],\n",
    "  'intern': ['intern', 'trainee', 'stażysta', 'staż', 'internship', 'praktyki', 'praktykant'],\n",
    "}\n",
    "\n",
    "locations = ['gdansk', 'gdynia', 'sopot', 'remote']\n",
    "seniorities_names = list(seniorities.keys())\n"
   ]
  },
  {
   "cell_type": "code",
   "execution_count": 106,
   "metadata": {},
   "outputs": [
    {
     "name": "stdout",
     "output_type": "stream",
     "text": [
      "Senior in Gdansk: 53\n",
      "Mid in Gdansk: 90\n",
      "Junior in Gdansk: 18\n",
      "Intern in Gdansk: 0\n",
      "\n",
      "Senior in Gdynia: 6\n",
      "Mid in Gdynia: 17\n",
      "Junior in Gdynia: 1\n",
      "Intern in Gdynia: 1\n",
      "\n",
      "Senior in Sopot: 0\n",
      "Mid in Sopot: 4\n",
      "Junior in Sopot: 1\n",
      "Intern in Sopot: 0\n",
      "\n",
      "Senior in Remote: 111\n",
      "Mid in Remote: 188\n",
      "Junior in Remote: 21\n",
      "Intern in Remote: 0\n",
      "\n"
     ]
    }
   ],
   "source": [
    "#retriving data from .csv files about number of job ofers for given seniority in given location\n",
    "for location in locations:\n",
    "  for seniority_name in seniorities_names:\n",
    "    print(f'{seniority_name.capitalize()} in {location.capitalize()}: ' + str(count_seniority_number(location, seniorities[f'{seniority_name}'])))\n",
    "  print('')"
   ]
  },
  {
   "cell_type": "code",
   "execution_count": 107,
   "metadata": {},
   "outputs": [],
   "source": [
    "#write numbers of counted jobs per Location and Seniority into .csv file\n",
    "with open('jobs_counted.csv', 'w', encoding=\"utf-8\") as csv_file:\n",
    "    writer = csv.writer(csv_file, delimiter=\",\")\n",
    "    writer.writerow([' '] + seniorities_names)\n",
    "    for location in locations:\n",
    "        seniority_numbers_counted = []\n",
    "        for seniority_name in seniorities_names:\n",
    "            seniority_numbers_counted.append(str(count_seniority_number(location, seniorities[f'{seniority_name}'])))\n",
    "        writer.writerow([location.capitalize()] + seniority_numbers_counted)"
   ]
  },
  {
   "cell_type": "code",
   "execution_count": 108,
   "metadata": {},
   "outputs": [],
   "source": [
    "#import pandas and matplotlib\n",
    "import pandas as pd\n",
    "import matplotlib.pyplot as plt"
   ]
  },
  {
   "cell_type": "code",
   "execution_count": 109,
   "metadata": {},
   "outputs": [
    {
     "name": "stdout",
     "output_type": "stream",
     "text": [
      "        senior  mid  junior  intern\n",
      "Gdansk      53   90      18       0\n",
      "Gdynia       6   17       1       1\n",
      " Sopot       0    4       1       0\n",
      "Remote     111  188      21       0\n"
     ]
    }
   ],
   "source": [
    "#read data from jobs_counted.csv and display it as a table with usage of pandas\n",
    "df = pd.read_csv('jobs_counted.csv')\n",
    "jobs_counted_table = df.to_string(index=False)\n",
    "print(jobs_counted_table)\n"
   ]
  },
  {
   "cell_type": "code",
   "execution_count": 110,
   "metadata": {},
   "outputs": [
    {
     "data": {
      "text/html": [
       "<div>\n",
       "<style scoped>\n",
       "    .dataframe tbody tr th:only-of-type {\n",
       "        vertical-align: middle;\n",
       "    }\n",
       "\n",
       "    .dataframe tbody tr th {\n",
       "        vertical-align: top;\n",
       "    }\n",
       "\n",
       "    .dataframe thead th {\n",
       "        text-align: right;\n",
       "    }\n",
       "</style>\n",
       "<table border=\"1\" class=\"dataframe\">\n",
       "  <thead>\n",
       "    <tr style=\"text-align: right;\">\n",
       "      <th></th>\n",
       "      <th>senior</th>\n",
       "      <th>mid</th>\n",
       "      <th>junior</th>\n",
       "      <th>intern</th>\n",
       "    </tr>\n",
       "  </thead>\n",
       "  <tbody>\n",
       "    <tr>\n",
       "      <th>count</th>\n",
       "      <td>4.00</td>\n",
       "      <td>4.00</td>\n",
       "      <td>4.00</td>\n",
       "      <td>4.00</td>\n",
       "    </tr>\n",
       "    <tr>\n",
       "      <th>mean</th>\n",
       "      <td>42.50</td>\n",
       "      <td>74.75</td>\n",
       "      <td>10.25</td>\n",
       "      <td>0.25</td>\n",
       "    </tr>\n",
       "    <tr>\n",
       "      <th>std</th>\n",
       "      <td>51.45</td>\n",
       "      <td>84.46</td>\n",
       "      <td>10.75</td>\n",
       "      <td>0.50</td>\n",
       "    </tr>\n",
       "    <tr>\n",
       "      <th>min</th>\n",
       "      <td>0.00</td>\n",
       "      <td>4.00</td>\n",
       "      <td>1.00</td>\n",
       "      <td>0.00</td>\n",
       "    </tr>\n",
       "    <tr>\n",
       "      <th>25%</th>\n",
       "      <td>4.50</td>\n",
       "      <td>13.75</td>\n",
       "      <td>1.00</td>\n",
       "      <td>0.00</td>\n",
       "    </tr>\n",
       "    <tr>\n",
       "      <th>50%</th>\n",
       "      <td>29.50</td>\n",
       "      <td>53.50</td>\n",
       "      <td>9.50</td>\n",
       "      <td>0.00</td>\n",
       "    </tr>\n",
       "    <tr>\n",
       "      <th>75%</th>\n",
       "      <td>67.50</td>\n",
       "      <td>114.50</td>\n",
       "      <td>18.75</td>\n",
       "      <td>0.25</td>\n",
       "    </tr>\n",
       "    <tr>\n",
       "      <th>max</th>\n",
       "      <td>111.00</td>\n",
       "      <td>188.00</td>\n",
       "      <td>21.00</td>\n",
       "      <td>1.00</td>\n",
       "    </tr>\n",
       "  </tbody>\n",
       "</table>\n",
       "</div>"
      ],
      "text/plain": [
       "       senior     mid  junior  intern\n",
       "count    4.00    4.00    4.00    4.00\n",
       "mean    42.50   74.75   10.25    0.25\n",
       "std     51.45   84.46   10.75    0.50\n",
       "min      0.00    4.00    1.00    0.00\n",
       "25%      4.50   13.75    1.00    0.00\n",
       "50%     29.50   53.50    9.50    0.00\n",
       "75%     67.50  114.50   18.75    0.25\n",
       "max    111.00  188.00   21.00    1.00"
      ]
     },
     "execution_count": 110,
     "metadata": {},
     "output_type": "execute_result"
    }
   ],
   "source": [
    "#show analyzed informations about data from jobs_counted.csv\n",
    "df.describe().round(2)"
   ]
  },
  {
   "cell_type": "code",
   "execution_count": 111,
   "metadata": {},
   "outputs": [
    {
     "data": {
      "text/plain": [
       "<AxesSubplot: title={'center': 'Job positions in selected cities with seniority placement'}, xlabel='City', ylabel='Number of job positions'>"
      ]
     },
     "execution_count": 111,
     "metadata": {},
     "output_type": "execute_result"
    },
    {
     "data": {
      "text/plain": [
       "<Figure size 640x480 with 0 Axes>"
      ]
     },
     "metadata": {},
     "output_type": "display_data"
    },
    {
     "data": {
      "image/png": "[encoded data removed]",
      "text/plain": [
       "<Figure size 640x480 with 1 Axes>"
      ]
     },
     "metadata": {},
     "output_type": "display_data"
    }
   ],
   "source": [
    "#create a bar chart from data in jobs_counted.csv\n",
    "plt.figure()\n",
    "\n",
    "df.plot(kind=\"bar\", title='Job positions in selected cities with seniority placement', grid=True, x=0, xlabel='City', ylabel='Number of job positions')"
   ]
  }
 ],
 "metadata": {
  "kernelspec": {
   "display_name": "Python 3",
   "language": "python",
   "name": "python3"
  },
  "language_info": {
   "codemirror_mode": {
    "name": "ipython",
    "version": 3
   },
   "file_extension": ".py",
   "mimetype": "text/x-python",
   "name": "python",
   "nbconvert_exporter": "python",
   "pygments_lexer": "ipython3",
   "version": "3.11.1"
  },
  "orig_nbformat": 4,
  "vscode": {
   "interpreter": {
    "hash": "aee8b7b246df8f9039afb4144a1f6fd8d2ca17a180786b69acc140d282b71a49"
   }
  }
 },
 "nbformat": 4,
 "nbformat_minor": 2
}
